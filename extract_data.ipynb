{
 "cells": [
  {
   "cell_type": "markdown",
   "id": "25392237-dd26-48d9-98ac-3da2cb2097c4",
   "metadata": {},
   "source": [
    "Basically this is going to be a modified version of `analysis.ipynb` with an emphasis on getting that massive dataset into a more manageable state for doing the group project."
   ]
  },
  {
   "cell_type": "code",
   "execution_count": 1,
   "id": "67129f2c-b80c-4281-b3c9-40bce514dc99",
   "metadata": {},
   "outputs": [],
   "source": [
    "# Dataset loading\n",
    "from rbclib import RBCPath\n",
    "from pathlib import Path\n",
    "# Bread and butter\n",
    "import pandas as pd\n",
    "import numpy as np"
   ]
  },
  {
   "cell_type": "markdown",
   "id": "e63de4cf-45e5-4645-9583-7dee4824ceda",
   "metadata": {},
   "source": [
    "## Get participant list / metadata\n",
    "Unchanged from `analysis`. By design the thing we're trying to predict is in this table."
   ]
  },
  {
   "cell_type": "code",
   "execution_count": 2,
   "id": "cc9b92fe-5c78-4ed9-9a28-293326b56341",
   "metadata": {
    "scrolled": true
   },
   "outputs": [
    {
     "data": {
      "text/html": [
       "<div>\n",
       "<style scoped>\n",
       "    .dataframe tbody tr th:only-of-type {\n",
       "        vertical-align: middle;\n",
       "    }\n",
       "\n",
       "    .dataframe tbody tr th {\n",
       "        vertical-align: top;\n",
       "    }\n",
       "\n",
       "    .dataframe thead th {\n",
       "        text-align: right;\n",
       "    }\n",
       "</style>\n",
       "<table border=\"1\" class=\"dataframe\">\n",
       "  <thead>\n",
       "    <tr style=\"text-align: right;\">\n",
       "      <th></th>\n",
       "      <th>participant_id</th>\n",
       "      <th>study</th>\n",
       "      <th>study_site</th>\n",
       "      <th>session_id</th>\n",
       "      <th>wave</th>\n",
       "      <th>age</th>\n",
       "      <th>sex</th>\n",
       "      <th>race</th>\n",
       "      <th>ethnicity</th>\n",
       "      <th>bmi</th>\n",
       "      <th>handedness</th>\n",
       "      <th>participant_education</th>\n",
       "      <th>parent_1_education</th>\n",
       "      <th>parent_2_education</th>\n",
       "      <th>p_factor</th>\n",
       "      <th>internalizing_mcelroy_harmonized_all_samples</th>\n",
       "      <th>externalizing_mcelroy_harmonized_all_samples</th>\n",
       "      <th>attention_mcelroy_harmonized_all_samples</th>\n",
       "      <th>cubids_acquisition_group</th>\n",
       "    </tr>\n",
       "  </thead>\n",
       "  <tbody>\n",
       "    <tr>\n",
       "      <th>0</th>\n",
       "      <td>1000393599</td>\n",
       "      <td>PNC</td>\n",
       "      <td>PNC1</td>\n",
       "      <td>PNC1</td>\n",
       "      <td>1</td>\n",
       "      <td>15.583333</td>\n",
       "      <td>Male</td>\n",
       "      <td>Black</td>\n",
       "      <td>not Hispanic or Latino</td>\n",
       "      <td>22.15</td>\n",
       "      <td>Right</td>\n",
       "      <td>9th Grade</td>\n",
       "      <td>Complete primary</td>\n",
       "      <td>Complete secondary</td>\n",
       "      <td>0.589907</td>\n",
       "      <td>-0.449373</td>\n",
       "      <td>-0.630780</td>\n",
       "      <td>-1.842178</td>\n",
       "      <td>1</td>\n",
       "    </tr>\n",
       "    <tr>\n",
       "      <th>1</th>\n",
       "      <td>1001970838</td>\n",
       "      <td>PNC</td>\n",
       "      <td>PNC1</td>\n",
       "      <td>PNC1</td>\n",
       "      <td>1</td>\n",
       "      <td>17.833333</td>\n",
       "      <td>Male</td>\n",
       "      <td>Other</td>\n",
       "      <td>Hispanic or Latino</td>\n",
       "      <td>23.98</td>\n",
       "      <td>Right</td>\n",
       "      <td>11th Grade</td>\n",
       "      <td>Complete tertiary</td>\n",
       "      <td>Complete tertiary</td>\n",
       "      <td>-0.659061</td>\n",
       "      <td>0.531072</td>\n",
       "      <td>0.392751</td>\n",
       "      <td>0.190706</td>\n",
       "      <td>1</td>\n",
       "    </tr>\n",
       "    <tr>\n",
       "      <th>2</th>\n",
       "      <td>1007995238</td>\n",
       "      <td>PNC</td>\n",
       "      <td>PNC1</td>\n",
       "      <td>PNC1</td>\n",
       "      <td>1</td>\n",
       "      <td>13.750000</td>\n",
       "      <td>Female</td>\n",
       "      <td>Other</td>\n",
       "      <td>not Hispanic or Latino</td>\n",
       "      <td>23.77</td>\n",
       "      <td>Right</td>\n",
       "      <td>6th Grade</td>\n",
       "      <td>Complete tertiary</td>\n",
       "      <td>Complete primary</td>\n",
       "      <td>-1.608375</td>\n",
       "      <td>-0.744118</td>\n",
       "      <td>-0.314187</td>\n",
       "      <td>-0.432662</td>\n",
       "      <td>1</td>\n",
       "    </tr>\n",
       "    <tr>\n",
       "      <th>3</th>\n",
       "      <td>1011497669</td>\n",
       "      <td>PNC</td>\n",
       "      <td>PNC1</td>\n",
       "      <td>PNC1</td>\n",
       "      <td>1</td>\n",
       "      <td>16.666667</td>\n",
       "      <td>Male</td>\n",
       "      <td>White</td>\n",
       "      <td>not Hispanic or Latino</td>\n",
       "      <td>29.68</td>\n",
       "      <td>Right</td>\n",
       "      <td>9th Grade</td>\n",
       "      <td>Complete tertiary</td>\n",
       "      <td>Complete tertiary</td>\n",
       "      <td>-1.233807</td>\n",
       "      <td>-0.896835</td>\n",
       "      <td>-0.449099</td>\n",
       "      <td>0.111167</td>\n",
       "      <td>1</td>\n",
       "    </tr>\n",
       "    <tr>\n",
       "      <th>4</th>\n",
       "      <td>1017092387</td>\n",
       "      <td>PNC</td>\n",
       "      <td>PNC1</td>\n",
       "      <td>PNC1</td>\n",
       "      <td>1</td>\n",
       "      <td>18.666667</td>\n",
       "      <td>Female</td>\n",
       "      <td>Black</td>\n",
       "      <td>not Hispanic or Latino</td>\n",
       "      <td>23.24</td>\n",
       "      <td>Right</td>\n",
       "      <td>11th Grade</td>\n",
       "      <td>Complete primary</td>\n",
       "      <td>Complete primary</td>\n",
       "      <td>-0.923100</td>\n",
       "      <td>-0.313455</td>\n",
       "      <td>2.204168</td>\n",
       "      <td>-0.782266</td>\n",
       "      <td>1</td>\n",
       "    </tr>\n",
       "    <tr>\n",
       "      <th>...</th>\n",
       "      <td>...</td>\n",
       "      <td>...</td>\n",
       "      <td>...</td>\n",
       "      <td>...</td>\n",
       "      <td>...</td>\n",
       "      <td>...</td>\n",
       "      <td>...</td>\n",
       "      <td>...</td>\n",
       "      <td>...</td>\n",
       "      <td>...</td>\n",
       "      <td>...</td>\n",
       "      <td>...</td>\n",
       "      <td>...</td>\n",
       "      <td>...</td>\n",
       "      <td>...</td>\n",
       "      <td>...</td>\n",
       "      <td>...</td>\n",
       "      <td>...</td>\n",
       "      <td>...</td>\n",
       "    </tr>\n",
       "    <tr>\n",
       "      <th>529</th>\n",
       "      <td>969649154</td>\n",
       "      <td>PNC</td>\n",
       "      <td>PNC1</td>\n",
       "      <td>PNC1</td>\n",
       "      <td>1</td>\n",
       "      <td>12.333333</td>\n",
       "      <td>Male</td>\n",
       "      <td>White</td>\n",
       "      <td>not Hispanic or Latino</td>\n",
       "      <td>17.38</td>\n",
       "      <td>Right</td>\n",
       "      <td>5th Grade</td>\n",
       "      <td>Complete tertiary</td>\n",
       "      <td>Complete secondary</td>\n",
       "      <td>NaN</td>\n",
       "      <td>-0.148520</td>\n",
       "      <td>0.556444</td>\n",
       "      <td>0.024228</td>\n",
       "      <td>1</td>\n",
       "    </tr>\n",
       "    <tr>\n",
       "      <th>530</th>\n",
       "      <td>970890500</td>\n",
       "      <td>PNC</td>\n",
       "      <td>PNC1</td>\n",
       "      <td>PNC1</td>\n",
       "      <td>1</td>\n",
       "      <td>18.166667</td>\n",
       "      <td>Female</td>\n",
       "      <td>White</td>\n",
       "      <td>not Hispanic or Latino</td>\n",
       "      <td>30.89</td>\n",
       "      <td>Right</td>\n",
       "      <td>11th Grade</td>\n",
       "      <td>Complete secondary</td>\n",
       "      <td>Complete secondary</td>\n",
       "      <td>NaN</td>\n",
       "      <td>0.993806</td>\n",
       "      <td>1.578177</td>\n",
       "      <td>-0.373470</td>\n",
       "      <td>1</td>\n",
       "    </tr>\n",
       "    <tr>\n",
       "      <th>531</th>\n",
       "      <td>975856179</td>\n",
       "      <td>PNC</td>\n",
       "      <td>PNC1</td>\n",
       "      <td>PNC1</td>\n",
       "      <td>1</td>\n",
       "      <td>11.000000</td>\n",
       "      <td>Male</td>\n",
       "      <td>White</td>\n",
       "      <td>not Hispanic or Latino</td>\n",
       "      <td>15.67</td>\n",
       "      <td>Right</td>\n",
       "      <td>4th Grade</td>\n",
       "      <td>Complete primary</td>\n",
       "      <td>Complete secondary</td>\n",
       "      <td>NaN</td>\n",
       "      <td>-1.026645</td>\n",
       "      <td>-0.582212</td>\n",
       "      <td>1.333857</td>\n",
       "      <td>1</td>\n",
       "    </tr>\n",
       "    <tr>\n",
       "      <th>532</th>\n",
       "      <td>984757368</td>\n",
       "      <td>PNC</td>\n",
       "      <td>PNC1</td>\n",
       "      <td>PNC1</td>\n",
       "      <td>1</td>\n",
       "      <td>13.416667</td>\n",
       "      <td>Male</td>\n",
       "      <td>Black</td>\n",
       "      <td>not Hispanic or Latino</td>\n",
       "      <td>16.66</td>\n",
       "      <td>Right</td>\n",
       "      <td>5th Grade</td>\n",
       "      <td>Complete primary</td>\n",
       "      <td>NaN</td>\n",
       "      <td>NaN</td>\n",
       "      <td>0.360029</td>\n",
       "      <td>-0.515655</td>\n",
       "      <td>1.509584</td>\n",
       "      <td>114</td>\n",
       "    </tr>\n",
       "    <tr>\n",
       "      <th>533</th>\n",
       "      <td>987544292</td>\n",
       "      <td>PNC</td>\n",
       "      <td>PNC1</td>\n",
       "      <td>PNC1</td>\n",
       "      <td>1</td>\n",
       "      <td>18.416667</td>\n",
       "      <td>Female</td>\n",
       "      <td>White</td>\n",
       "      <td>not Hispanic or Latino</td>\n",
       "      <td>NaN</td>\n",
       "      <td>Right</td>\n",
       "      <td>11th Grade</td>\n",
       "      <td>Complete secondary</td>\n",
       "      <td>Complete primary</td>\n",
       "      <td>NaN</td>\n",
       "      <td>0.399735</td>\n",
       "      <td>-0.490472</td>\n",
       "      <td>0.018679</td>\n",
       "      <td>1</td>\n",
       "    </tr>\n",
       "  </tbody>\n",
       "</table>\n",
       "<p>1601 rows × 19 columns</p>\n",
       "</div>"
      ],
      "text/plain": [
       "     participant_id study study_site session_id  wave        age     sex  \\\n",
       "0        1000393599   PNC       PNC1       PNC1     1  15.583333    Male   \n",
       "1        1001970838   PNC       PNC1       PNC1     1  17.833333    Male   \n",
       "2        1007995238   PNC       PNC1       PNC1     1  13.750000  Female   \n",
       "3        1011497669   PNC       PNC1       PNC1     1  16.666667    Male   \n",
       "4        1017092387   PNC       PNC1       PNC1     1  18.666667  Female   \n",
       "..              ...   ...        ...        ...   ...        ...     ...   \n",
       "529       969649154   PNC       PNC1       PNC1     1  12.333333    Male   \n",
       "530       970890500   PNC       PNC1       PNC1     1  18.166667  Female   \n",
       "531       975856179   PNC       PNC1       PNC1     1  11.000000    Male   \n",
       "532       984757368   PNC       PNC1       PNC1     1  13.416667    Male   \n",
       "533       987544292   PNC       PNC1       PNC1     1  18.416667  Female   \n",
       "\n",
       "      race               ethnicity    bmi handedness participant_education  \\\n",
       "0    Black  not Hispanic or Latino  22.15      Right             9th Grade   \n",
       "1    Other      Hispanic or Latino  23.98      Right            11th Grade   \n",
       "2    Other  not Hispanic or Latino  23.77      Right             6th Grade   \n",
       "3    White  not Hispanic or Latino  29.68      Right             9th Grade   \n",
       "4    Black  not Hispanic or Latino  23.24      Right            11th Grade   \n",
       "..     ...                     ...    ...        ...                   ...   \n",
       "529  White  not Hispanic or Latino  17.38      Right             5th Grade   \n",
       "530  White  not Hispanic or Latino  30.89      Right            11th Grade   \n",
       "531  White  not Hispanic or Latino  15.67      Right             4th Grade   \n",
       "532  Black  not Hispanic or Latino  16.66      Right             5th Grade   \n",
       "533  White  not Hispanic or Latino    NaN      Right            11th Grade   \n",
       "\n",
       "     parent_1_education  parent_2_education  p_factor  \\\n",
       "0      Complete primary  Complete secondary  0.589907   \n",
       "1     Complete tertiary   Complete tertiary -0.659061   \n",
       "2     Complete tertiary    Complete primary -1.608375   \n",
       "3     Complete tertiary   Complete tertiary -1.233807   \n",
       "4      Complete primary    Complete primary -0.923100   \n",
       "..                  ...                 ...       ...   \n",
       "529   Complete tertiary  Complete secondary       NaN   \n",
       "530  Complete secondary  Complete secondary       NaN   \n",
       "531    Complete primary  Complete secondary       NaN   \n",
       "532    Complete primary                 NaN       NaN   \n",
       "533  Complete secondary    Complete primary       NaN   \n",
       "\n",
       "     internalizing_mcelroy_harmonized_all_samples  \\\n",
       "0                                       -0.449373   \n",
       "1                                        0.531072   \n",
       "2                                       -0.744118   \n",
       "3                                       -0.896835   \n",
       "4                                       -0.313455   \n",
       "..                                            ...   \n",
       "529                                     -0.148520   \n",
       "530                                      0.993806   \n",
       "531                                     -1.026645   \n",
       "532                                      0.360029   \n",
       "533                                      0.399735   \n",
       "\n",
       "     externalizing_mcelroy_harmonized_all_samples  \\\n",
       "0                                       -0.630780   \n",
       "1                                        0.392751   \n",
       "2                                       -0.314187   \n",
       "3                                       -0.449099   \n",
       "4                                        2.204168   \n",
       "..                                            ...   \n",
       "529                                      0.556444   \n",
       "530                                      1.578177   \n",
       "531                                     -0.582212   \n",
       "532                                     -0.515655   \n",
       "533                                     -0.490472   \n",
       "\n",
       "     attention_mcelroy_harmonized_all_samples  cubids_acquisition_group  \n",
       "0                                   -1.842178                         1  \n",
       "1                                    0.190706                         1  \n",
       "2                                   -0.432662                         1  \n",
       "3                                    0.111167                         1  \n",
       "4                                   -0.782266                         1  \n",
       "..                                        ...                       ...  \n",
       "529                                  0.024228                         1  \n",
       "530                                 -0.373470                         1  \n",
       "531                                  1.333857                         1  \n",
       "532                                  1.509584                       114  \n",
       "533                                  0.018679                         1  \n",
       "\n",
       "[1601 rows x 19 columns]"
      ]
     },
     "execution_count": 2,
     "metadata": {},
     "output_type": "execute_result"
    }
   ],
   "source": [
    "# Participant meta-data is generally located in the BIDS repository for each\n",
    "# study:\n",
    "rbcdata_path = Path('/home/jovyan/shared/data/RBC')\n",
    "train_filepath = rbcdata_path / 'train_participants.tsv'\n",
    "test_filepath = rbcdata_path / 'test_participants.tsv'\n",
    "\n",
    "# Load the PNC participants TSV files...\n",
    "with train_filepath.open('r') as f:\n",
    "    train_data = pd.read_csv(f, sep='\\t')\n",
    "with test_filepath.open('r') as f:\n",
    "    test_data = pd.read_csv(f, sep='\\t')\n",
    "\n",
    "# We can also concatenate the two datasets into a single dataset of all\n",
    "# study participants:\n",
    "all_data = pd.concat([train_data, test_data])\n",
    "\n",
    "# Display the full dataframe:\n",
    "all_data"
   ]
  },
  {
   "cell_type": "markdown",
   "id": "d829d61a-a668-485b-8548-3b65f4841573",
   "metadata": {},
   "source": [
    "#### Look at `p_factor` a lil bit"
   ]
  },
  {
   "cell_type": "code",
   "execution_count": 12,
   "id": "fa995e9a-a8f1-4b31-bcb9-bf36f02f4409",
   "metadata": {},
   "outputs": [],
   "source": [
    "# Plotting imports\n",
    "from matplotlib import pyplot as plt\n",
    "import seaborn as sns\n",
    "plt.style.use('ggplot')\n",
    "import warnings # shut up numpy."
   ]
  },
  {
   "cell_type": "code",
   "execution_count": 26,
   "id": "a4ebb63b-e022-4bd2-8076-8021b6b4bf8f",
   "metadata": {},
   "outputs": [
    {
     "data": {
      "image/png": "[encoded data removed]",
      "text/plain": [
       "<Figure size 900x400 with 2 Axes>"
      ]
     },
     "metadata": {},
     "output_type": "display_data"
    }
   ],
   "source": [
    "plt.figure(figsize=(9,4))\n",
    "plt.subplot(1,2,1)\n",
    "with warnings.catch_warnings():\n",
    "    warnings.simplefilter(\"ignore\")\n",
    "    pfac_asc = np.argsort(all_data['p_factor'])\n",
    "plt.scatter(np.arange(len(pfac_asc)), all_data['p_factor'].values[pfac_asc], s=1);\n",
    "plt.xlabel(\"Subject\")\n",
    "plt.ylabel(\"p_factor\")\n",
    "plt.title(\"individual data points\\n(sorted by asc. p_factor)\")\n",
    "plt.subplot(1,2,2)\n",
    "sns.histplot(data=all_data, x='p_factor')\n",
    "plt.title(\"histogram\")\n",
    "plt.tight_layout();"
   ]
  },
  {
   "cell_type": "markdown",
   "id": "426b0913-4c1e-406b-83ec-a3db06027dcb",
   "metadata": {},
   "source": [
    "## Call the dataset\n",
    "this is the part that takes forever\n",
    "\n",
    "PLEASE add the cache to your gitignore :)"
   ]
  },
  {
   "cell_type": "code",
   "execution_count": 109,
   "id": "59269085-1c6f-47a3-a5cc-ab45ade9fee7",
   "metadata": {},
   "outputs": [],
   "source": [
    "def load_fsdata(participant_id, local_cache_dir=(Path.home() / 'cache')):\n",
    "    \"Loads and returns the dataframe of a PNC participant's FreeSurfer data.\"\n",
    "\n",
    "    # Check that the local_cache_dir exists and make it if it doesn't.\n",
    "    if local_cache_dir is not None:\n",
    "        local_cache_dir = Path(local_cache_dir)\n",
    "        local_cache_dir.mkdir(exist_ok=True)\n",
    "    \n",
    "    # Make the RBCPath and find the appropriate file:\n",
    "    pnc_freesurfer_path = RBCPath(\n",
    "        'rbc://PNC_FreeSurfer/freesurfer',\n",
    "        # We provide the local_cache_dir to the RBCPath object; all paths made\n",
    "        # from this object will use the same cache directory.\n",
    "        local_cache_dir=local_cache_dir)\n",
    "    participant_path = pnc_freesurfer_path / f'sub-{participant_id}'\n",
    "    tsv_path = participant_path / f'sub-{participant_id}_regionsurfacestats.tsv'\n",
    "\n",
    "    if os.path.isfile(tsv_path):\n",
    "        # Use pandas to read in the TSV file:\n",
    "        with tsv_path.open('r') as f:\n",
    "            data = pd.read_csv(f, sep='\\t')\n",
    "    \n",
    "        # Return the loaded data:\n",
    "        return data\n",
    "    else:\n",
    "        print(f\"No regionsurfacestats.tsv found for participant {participant_id}, skipping...\")\n",
    "        return None"
   ]
  },
  {
   "cell_type": "code",
   "execution_count": 130,
   "id": "768f3b62-7469-43a2-80a2-342e24fff4e4",
   "metadata": {},
   "outputs": [
    {
     "name": "stdout",
     "output_type": "stream",
     "text": [
      "dataset contains n = 1601 participants\n",
      "Estimated time to loop this function is 35.44 minutes.\n"
     ]
    }
   ],
   "source": [
    "# testing if i can loop this without my internet shitting the bed\n",
    "import time\n",
    "all_participants = np.unique(all_data['participant_id'].values)\n",
    "print(\"dataset contains n =\", all_participants.shape[0], \"participants\")\n",
    "t1 = time.time()\n",
    "df = load_fsdata(all_participants[0])\n",
    "t2 = time.time()\n",
    "print(\"Estimated time to loop this function is %.2f minutes.\" % (((t2-t1)*all_participants.shape[0])/60))"
   ]
  },
  {
   "cell_type": "markdown",
   "id": "24c3dfc3-940e-459b-9421-8e04cf9d2271",
   "metadata": {},
   "source": [
    "eh, could be worse. i guess there is some marginal processing time added on by the next function so let's do that now."
   ]
  },
  {
   "cell_type": "code",
   "execution_count": 36,
   "id": "91e168de-416a-4f7b-a0a8-bc6826f97aae",
   "metadata": {},
   "outputs": [],
   "source": [
    "# I tweaked load_ba1_surfarea() so it works for any roi/param.\n",
    "# Loading fsdata within this function is slow so I decided to nix that.\n",
    "def load_roi_param(participant_df, roi_name, param):\n",
    "    \"\"\"\n",
    "    Loads and returns the bilateral value for a given\n",
    "    parameter and ROI for all PNC study participants.\n",
    "\n",
    "    Parameters\n",
    "    ----------\n",
    "    participant_df : pd.DataFrame\n",
    "                     The output of load_fsdata() for a single subject.\n",
    "    roi_name : str\n",
    "               The name of the region you want the surface area for.\n",
    "    param : str\n",
    "            The parameter you wish to extract from the participant_df.\n",
    "\n",
    "    Returns\n",
    "    -------\n",
    "    \"\"\"\n",
    "    # Next, find the relevant rows:\n",
    "    row_mask = (participant_df['StructName'] == roi_name)\n",
    "    # Then extract and sum the desired parameter:\n",
    "    stereo_params = participant_df.loc[row_mask, param] # lh + rh\n",
    "    roi_param = sum(stereo_params)\n",
    "    # And return this value:\n",
    "    return roi_param"
   ]
  },
  {
   "cell_type": "code",
   "execution_count": 40,
   "id": "5d14366a-032c-401f-b9cf-90f872902f03",
   "metadata": {},
   "outputs": [
    {
     "name": "stdout",
     "output_type": "stream",
     "text": [
      "Possible parameters we could regress against p_factor are: ['NumVert' 'SurfArea' 'GrayVol' 'ThickAvg' 'ThickStd' 'MeanCurv'\n",
      " 'GausCurv' 'FoldInd' 'CurvInd' 'Index' 'SegId' 'Mean_wgpct'\n",
      " 'StdDev_wgpct' 'Min_wgpct' 'Max_wgpct' 'Range_wgpct' 'SNR_wgpct'\n",
      " 'Mean_piallgi' 'StdDev_piallgi' 'Min_piallgi' 'Max_piallgi'\n",
      " 'Range_piallgi']\n"
     ]
    }
   ],
   "source": [
    "# I'm sure some of these are better candidates than others lol\n",
    "print(\"Possible parameters we could regress against p_factor are:\", df.columns[5:].values)"
   ]
  },
  {
   "cell_type": "code",
   "execution_count": 43,
   "id": "f8e0b66c-0f35-4a85-bff9-09fc3d0cfc49",
   "metadata": {},
   "outputs": [
    {
     "name": "stdout",
     "output_type": "stream",
     "text": [
      "dset contains 3924 rois per subj\n"
     ]
    },
    {
     "data": {
      "application/vnd.jupyter.widget-view+json": {
       "model_id": "1d4433013aa24999b89776c5946cd8cb",
       "version_major": 2,
       "version_minor": 0
      },
      "text/plain": [
       "  0%|          | 0/3924 [00:00<?, ?it/s]"
      ]
     },
     "metadata": {},
     "output_type": "display_data"
    },
    {
     "name": "stdout",
     "output_type": "stream",
     "text": [
      "Extracting surface for every ROI from every subject would take 167.70 minutes.\n"
     ]
    }
   ],
   "source": [
    "# ok. how long will this take.\n",
    "from tqdm.notebook import tqdm\n",
    "example_param = 'SurfArea' # keepin' it simple\n",
    "all_rois = np.unique(df['StructName'].values)\n",
    "print(\"dset contains\", all_rois.shape[0], \"rois per subj\")\n",
    "t1 = time.time()\n",
    "df = load_fsdata(all_participants[1]) # diff index bc i'm paranoid\n",
    "# Because we only load the data once this loop should be reasonably quick\n",
    "pbar = tqdm(all_rois)\n",
    "for roi in pbar:\n",
    "    pbar.set_description(f\"Loading {example_param} for {roi}\")\n",
    "    surfarea = load_roi_param(df, roi, example_param)\n",
    "t2 = time.time()\n",
    "# To estimate time, we have to multiply by number of ROIs AND number of subjs\n",
    "est_time = ((t2-t1)*all_participants.shape[0]*all_rois.shape[0])/60\n",
    "print(\"Extracting surface for every ROI from every subject would take %.2f minutes.\" % (((t2-t1)*all_participants.shape[0])/60))"
   ]
  },
  {
   "cell_type": "markdown",
   "id": "45acacd7-630f-4cf1-9a52-84d2d52a2589",
   "metadata": {},
   "source": [
    "OK that's still not that bad relatively. I'm going to do this now and go eat dinner or something.\n",
    "\n",
    "Format for the dataset that makes the most sense to me is creating one tsv per ROI. That tsv contains columns of params and rows of subjs. Each atlas is a folder.\n",
    "\n",
    "For computational simplicitly I am going to convert some integers to floats. I don't know that this will actually matter for anything but I'm writing it down here for my sake."
   ]
  },
  {
   "cell_type": "code",
   "execution_count": 113,
   "id": "712f0a6a-492e-4db6-926f-46a6ec4d0da6",
   "metadata": {},
   "outputs": [
    {
     "data": {
      "application/vnd.jupyter.widget-view+json": {
       "model_id": "0d83e3c1fdd44dd0a1be1d16dd6b0c8e",
       "version_major": 2,
       "version_minor": 0
      },
      "text/plain": [
       "  0%|          | 0/1601 [00:00<?, ?it/s]"
      ]
     },
     "metadata": {},
     "output_type": "display_data"
    },
    {
     "name": "stdout",
     "output_type": "stream",
     "text": [
      "No regionsurfacestats.tsv found for participant 219325366, skipping...\n",
      "No regionsurfacestats.tsv found for participant 495793681, skipping...\n",
      "No regionsurfacestats.tsv found for participant 533698126, skipping...\n",
      "No regionsurfacestats.tsv found for participant 1342487188, skipping...\n",
      "No regionsurfacestats.tsv found for participant 1649551035, skipping...\n",
      "No regionsurfacestats.tsv found for participant 2003542642, skipping...\n",
      "No regionsurfacestats.tsv found for participant 2249226316, skipping...\n",
      "No regionsurfacestats.tsv found for participant 4184549693, skipping...\n",
      "No regionsurfacestats.tsv found for participant 4205323727, skipping...\n"
     ]
    }
   ],
   "source": [
    "import os\n",
    "participant_dfs = dict()\n",
    "pbar = tqdm(all_participants)\n",
    "for subj in pbar:\n",
    "    pbar.set_description(f\"Loading data for participant {subj}...\")\n",
    "    participant_dfs[subj] = load_fsdata(subj)"
   ]
  },
  {
   "cell_type": "code",
   "execution_count": 119,
   "id": "3e898057-f2a7-492d-9e2b-d40bda25fb82",
   "metadata": {},
   "outputs": [],
   "source": [
    "import pickle\n",
    "with open('data/fsdata.pkl', 'wb') as f:\n",
    "    pickle.dump(participant_dfs, f)"
   ]
  },
  {
   "cell_type": "code",
   "execution_count": 125,
   "id": "344312c8-a125-472a-ab12-d33c82d7406c",
   "metadata": {},
   "outputs": [
    {
     "name": "stdout",
     "output_type": "stream",
     "text": [
      "['AAL' 'BA_exvivo' 'CC200' 'CC400' 'HOCPATh25' 'Juelich'\n",
      " 'PALS_B12_Brodmann' 'Schaefer2018_1000Parcels_17Networks_order'\n",
      " 'Schaefer2018_1000Parcels_7Networks_order'\n",
      " 'Schaefer2018_100Parcels_17Networks_order'\n",
      " 'Schaefer2018_100Parcels_7Networks_order'\n",
      " 'Schaefer2018_200Parcels_17Networks_order'\n",
      " 'Schaefer2018_200Parcels_7Networks_order'\n",
      " 'Schaefer2018_300Parcels_17Networks_order'\n",
      " 'Schaefer2018_300Parcels_7Networks_order'\n",
      " 'Schaefer2018_400Parcels_17Networks_order'\n",
      " 'Schaefer2018_400Parcels_7Networks_order'\n",
      " 'Schaefer2018_500Parcels_17Networks_order'\n",
      " 'Schaefer2018_500Parcels_7Networks_order'\n",
      " 'Schaefer2018_600Parcels_17Networks_order'\n",
      " 'Schaefer2018_600Parcels_7Networks_order'\n",
      " 'Schaefer2018_700Parcels_17Networks_order'\n",
      " 'Schaefer2018_700Parcels_7Networks_order'\n",
      " 'Schaefer2018_800Parcels_17Networks_order'\n",
      " 'Schaefer2018_800Parcels_7Networks_order'\n",
      " 'Schaefer2018_900Parcels_17Networks_order'\n",
      " 'Schaefer2018_900Parcels_7Networks_order' 'Slab'\n",
      " 'Yeo2011_17Networks_N1000' 'Yeo2011_7Networks_N1000' 'aparc'\n",
      " 'aparc.DKTatlas' 'aparc.a2009s' 'glasser' 'gordon333dil']\n"
     ]
    }
   ],
   "source": [
    "print(np.unique(df['atlas'].values))"
   ]
  },
  {
   "cell_type": "code",
   "execution_count": 132,
   "id": "23865bbd-b309-4066-b37f-ffbe8ff9243a",
   "metadata": {
    "scrolled": true
   },
   "outputs": [
    {
     "data": {
      "application/vnd.jupyter.widget-view+json": {
       "model_id": "8f10111c220c40ab8289a1c62583388c",
       "version_major": 2,
       "version_minor": 0
      },
      "text/plain": [
       "  0%|          | 0/1592 [00:00<?, ?it/s]"
      ]
     },
     "metadata": {},
     "output_type": "display_data"
    },
    {
     "name": "stdout",
     "output_type": "stream",
     "text": [
      "Saving to .tsvs...\n"
     ]
    },
    {
     "data": {
      "application/vnd.jupyter.widget-view+json": {
       "model_id": "e82e28179541482d9462b994e6f90ecf",
       "version_major": 2,
       "version_minor": 0
      },
      "text/plain": [
       "  0%|          | 0/4 [00:00<?, ?it/s]"
      ]
     },
     "metadata": {},
     "output_type": "display_data"
    },
    {
     "ename": "KeyboardInterrupt",
     "evalue": "",
     "output_type": "error",
     "traceback": [
      "\u001b[0;31m---------------------------------------------------------------------------\u001b[0m",
      "\u001b[0;31mKeyboardInterrupt\u001b[0m                         Traceback (most recent call last)",
      "Cell \u001b[0;32mIn[132], line 35\u001b[0m\n\u001b[1;32m     33\u001b[0m             dframes[roi][param] \u001b[38;5;241m=\u001b[39m atlas_dat[atlas][:,jj,kk]\n\u001b[1;32m     34\u001b[0m         \u001b[38;5;66;03m# Write\u001b[39;00m\n\u001b[0;32m---> 35\u001b[0m         \u001b[43mdframes\u001b[49m\u001b[43m[\u001b[49m\u001b[43mroi\u001b[49m\u001b[43m]\u001b[49m\u001b[38;5;241;43m.\u001b[39;49m\u001b[43mto_csv\u001b[49m\u001b[43m(\u001b[49m\u001b[38;5;124;43mf\u001b[39;49m\u001b[38;5;124;43m'\u001b[39;49m\u001b[38;5;124;43m./data/regionsurfacestats/\u001b[39;49m\u001b[38;5;132;43;01m{\u001b[39;49;00m\u001b[43mroi\u001b[49m\u001b[38;5;132;43;01m}\u001b[39;49;00m\u001b[38;5;124;43m.tsv\u001b[39;49m\u001b[38;5;124;43m'\u001b[39;49m\u001b[43m \u001b[49m\u001b[43m,\u001b[49m\u001b[43msep\u001b[49m\u001b[38;5;241;43m=\u001b[39;49m\u001b[38;5;124;43m'\u001b[39;49m\u001b[38;5;130;43;01m\\t\u001b[39;49;00m\u001b[38;5;124;43m'\u001b[39;49m\u001b[43m,\u001b[49m\u001b[43m \u001b[49m\u001b[43mindex\u001b[49m\u001b[38;5;241;43m=\u001b[39;49m\u001b[38;5;28;43;01mFalse\u001b[39;49;00m\u001b[43m)\u001b[49m\n\u001b[1;32m     36\u001b[0m t2 \u001b[38;5;241m=\u001b[39m time\u001b[38;5;241m.\u001b[39mtime()\n\u001b[1;32m     37\u001b[0m \u001b[38;5;28mprint\u001b[39m(\u001b[38;5;124m\"\u001b[39m\u001b[38;5;124mOperation took \u001b[39m\u001b[38;5;132;01m%.2f\u001b[39;00m\u001b[38;5;124m minutes.\u001b[39m\u001b[38;5;124m\"\u001b[39m \u001b[38;5;241m%\u001b[39m ((t2\u001b[38;5;241m-\u001b[39mt1)\u001b[38;5;241m/\u001b[39m\u001b[38;5;241m60\u001b[39m))\n",
      "File \u001b[0;32m/srv/conda/envs/notebook/lib/python3.11/site-packages/pandas/util/_decorators.py:333\u001b[0m, in \u001b[0;36mdeprecate_nonkeyword_arguments.<locals>.decorate.<locals>.wrapper\u001b[0;34m(*args, **kwargs)\u001b[0m\n\u001b[1;32m    327\u001b[0m \u001b[38;5;28;01mif\u001b[39;00m \u001b[38;5;28mlen\u001b[39m(args) \u001b[38;5;241m>\u001b[39m num_allow_args:\n\u001b[1;32m    328\u001b[0m     warnings\u001b[38;5;241m.\u001b[39mwarn(\n\u001b[1;32m    329\u001b[0m         msg\u001b[38;5;241m.\u001b[39mformat(arguments\u001b[38;5;241m=\u001b[39m_format_argument_list(allow_args)),\n\u001b[1;32m    330\u001b[0m         \u001b[38;5;167;01mFutureWarning\u001b[39;00m,\n\u001b[1;32m    331\u001b[0m         stacklevel\u001b[38;5;241m=\u001b[39mfind_stack_level(),\n\u001b[1;32m    332\u001b[0m     )\n\u001b[0;32m--> 333\u001b[0m \u001b[38;5;28;01mreturn\u001b[39;00m \u001b[43mfunc\u001b[49m\u001b[43m(\u001b[49m\u001b[38;5;241;43m*\u001b[39;49m\u001b[43margs\u001b[49m\u001b[43m,\u001b[49m\u001b[43m \u001b[49m\u001b[38;5;241;43m*\u001b[39;49m\u001b[38;5;241;43m*\u001b[39;49m\u001b[43mkwargs\u001b[49m\u001b[43m)\u001b[49m\n",
      "File \u001b[0;32m/srv/conda/envs/notebook/lib/python3.11/site-packages/pandas/core/generic.py:3986\u001b[0m, in \u001b[0;36mNDFrame.to_csv\u001b[0;34m(self, path_or_buf, sep, na_rep, float_format, columns, header, index, index_label, mode, encoding, compression, quoting, quotechar, lineterminator, chunksize, date_format, doublequote, escapechar, decimal, errors, storage_options)\u001b[0m\n\u001b[1;32m   3975\u001b[0m df \u001b[38;5;241m=\u001b[39m \u001b[38;5;28mself\u001b[39m \u001b[38;5;28;01mif\u001b[39;00m \u001b[38;5;28misinstance\u001b[39m(\u001b[38;5;28mself\u001b[39m, ABCDataFrame) \u001b[38;5;28;01melse\u001b[39;00m \u001b[38;5;28mself\u001b[39m\u001b[38;5;241m.\u001b[39mto_frame()\n\u001b[1;32m   3977\u001b[0m formatter \u001b[38;5;241m=\u001b[39m DataFrameFormatter(\n\u001b[1;32m   3978\u001b[0m     frame\u001b[38;5;241m=\u001b[39mdf,\n\u001b[1;32m   3979\u001b[0m     header\u001b[38;5;241m=\u001b[39mheader,\n\u001b[0;32m   (...)\u001b[0m\n\u001b[1;32m   3983\u001b[0m     decimal\u001b[38;5;241m=\u001b[39mdecimal,\n\u001b[1;32m   3984\u001b[0m )\n\u001b[0;32m-> 3986\u001b[0m \u001b[38;5;28;01mreturn\u001b[39;00m \u001b[43mDataFrameRenderer\u001b[49m\u001b[43m(\u001b[49m\u001b[43mformatter\u001b[49m\u001b[43m)\u001b[49m\u001b[38;5;241;43m.\u001b[39;49m\u001b[43mto_csv\u001b[49m\u001b[43m(\u001b[49m\n\u001b[1;32m   3987\u001b[0m \u001b[43m    \u001b[49m\u001b[43mpath_or_buf\u001b[49m\u001b[43m,\u001b[49m\n\u001b[1;32m   3988\u001b[0m \u001b[43m    \u001b[49m\u001b[43mlineterminator\u001b[49m\u001b[38;5;241;43m=\u001b[39;49m\u001b[43mlineterminator\u001b[49m\u001b[43m,\u001b[49m\n\u001b[1;32m   3989\u001b[0m \u001b[43m    \u001b[49m\u001b[43msep\u001b[49m\u001b[38;5;241;43m=\u001b[39;49m\u001b[43msep\u001b[49m\u001b[43m,\u001b[49m\n\u001b[1;32m   3990\u001b[0m \u001b[43m    \u001b[49m\u001b[43mencoding\u001b[49m\u001b[38;5;241;43m=\u001b[39;49m\u001b[43mencoding\u001b[49m\u001b[43m,\u001b[49m\n\u001b[1;32m   3991\u001b[0m \u001b[43m    \u001b[49m\u001b[43merrors\u001b[49m\u001b[38;5;241;43m=\u001b[39;49m\u001b[43merrors\u001b[49m\u001b[43m,\u001b[49m\n\u001b[1;32m   3992\u001b[0m \u001b[43m    \u001b[49m\u001b[43mcompression\u001b[49m\u001b[38;5;241;43m=\u001b[39;49m\u001b[43mcompression\u001b[49m\u001b[43m,\u001b[49m\n\u001b[1;32m   3993\u001b[0m \u001b[43m    \u001b[49m\u001b[43mquoting\u001b[49m\u001b[38;5;241;43m=\u001b[39;49m\u001b[43mquoting\u001b[49m\u001b[43m,\u001b[49m\n\u001b[1;32m   3994\u001b[0m \u001b[43m    \u001b[49m\u001b[43mcolumns\u001b[49m\u001b[38;5;241;43m=\u001b[39;49m\u001b[43mcolumns\u001b[49m\u001b[43m,\u001b[49m\n\u001b[1;32m   3995\u001b[0m \u001b[43m    \u001b[49m\u001b[43mindex_label\u001b[49m\u001b[38;5;241;43m=\u001b[39;49m\u001b[43mindex_label\u001b[49m\u001b[43m,\u001b[49m\n\u001b[1;32m   3996\u001b[0m \u001b[43m    \u001b[49m\u001b[43mmode\u001b[49m\u001b[38;5;241;43m=\u001b[39;49m\u001b[43mmode\u001b[49m\u001b[43m,\u001b[49m\n\u001b[1;32m   3997\u001b[0m \u001b[43m    \u001b[49m\u001b[43mchunksize\u001b[49m\u001b[38;5;241;43m=\u001b[39;49m\u001b[43mchunksize\u001b[49m\u001b[43m,\u001b[49m\n\u001b[1;32m   3998\u001b[0m \u001b[43m    \u001b[49m\u001b[43mquotechar\u001b[49m\u001b[38;5;241;43m=\u001b[39;49m\u001b[43mquotechar\u001b[49m\u001b[43m,\u001b[49m\n\u001b[1;32m   3999\u001b[0m \u001b[43m    \u001b[49m\u001b[43mdate_format\u001b[49m\u001b[38;5;241;43m=\u001b[39;49m\u001b[43mdate_format\u001b[49m\u001b[43m,\u001b[49m\n\u001b[1;32m   4000\u001b[0m \u001b[43m    \u001b[49m\u001b[43mdoublequote\u001b[49m\u001b[38;5;241;43m=\u001b[39;49m\u001b[43mdoublequote\u001b[49m\u001b[43m,\u001b[49m\n\u001b[1;32m   4001\u001b[0m \u001b[43m    \u001b[49m\u001b[43mescapechar\u001b[49m\u001b[38;5;241;43m=\u001b[39;49m\u001b[43mescapechar\u001b[49m\u001b[43m,\u001b[49m\n\u001b[1;32m   4002\u001b[0m \u001b[43m    \u001b[49m\u001b[43mstorage_options\u001b[49m\u001b[38;5;241;43m=\u001b[39;49m\u001b[43mstorage_options\u001b[49m\u001b[43m,\u001b[49m\n\u001b[1;32m   4003\u001b[0m \u001b[43m\u001b[49m\u001b[43m)\u001b[49m\n",
      "File \u001b[0;32m/srv/conda/envs/notebook/lib/python3.11/site-packages/pandas/io/formats/format.py:1014\u001b[0m, in \u001b[0;36mDataFrameRenderer.to_csv\u001b[0;34m(self, path_or_buf, encoding, sep, columns, index_label, mode, compression, quoting, quotechar, lineterminator, chunksize, date_format, doublequote, escapechar, errors, storage_options)\u001b[0m\n\u001b[1;32m    993\u001b[0m     created_buffer \u001b[38;5;241m=\u001b[39m \u001b[38;5;28;01mFalse\u001b[39;00m\n\u001b[1;32m    995\u001b[0m csv_formatter \u001b[38;5;241m=\u001b[39m CSVFormatter(\n\u001b[1;32m    996\u001b[0m     path_or_buf\u001b[38;5;241m=\u001b[39mpath_or_buf,\n\u001b[1;32m    997\u001b[0m     lineterminator\u001b[38;5;241m=\u001b[39mlineterminator,\n\u001b[0;32m   (...)\u001b[0m\n\u001b[1;32m   1012\u001b[0m     formatter\u001b[38;5;241m=\u001b[39m\u001b[38;5;28mself\u001b[39m\u001b[38;5;241m.\u001b[39mfmt,\n\u001b[1;32m   1013\u001b[0m )\n\u001b[0;32m-> 1014\u001b[0m \u001b[43mcsv_formatter\u001b[49m\u001b[38;5;241;43m.\u001b[39;49m\u001b[43msave\u001b[49m\u001b[43m(\u001b[49m\u001b[43m)\u001b[49m\n\u001b[1;32m   1016\u001b[0m \u001b[38;5;28;01mif\u001b[39;00m created_buffer:\n\u001b[1;32m   1017\u001b[0m     \u001b[38;5;28;01massert\u001b[39;00m \u001b[38;5;28misinstance\u001b[39m(path_or_buf, StringIO)\n",
      "File \u001b[0;32m/srv/conda/envs/notebook/lib/python3.11/site-packages/pandas/io/formats/csvs.py:270\u001b[0m, in \u001b[0;36mCSVFormatter.save\u001b[0;34m(self)\u001b[0m\n\u001b[1;32m    251\u001b[0m \u001b[38;5;28;01mwith\u001b[39;00m get_handle(\n\u001b[1;32m    252\u001b[0m     \u001b[38;5;28mself\u001b[39m\u001b[38;5;241m.\u001b[39mfilepath_or_buffer,\n\u001b[1;32m    253\u001b[0m     \u001b[38;5;28mself\u001b[39m\u001b[38;5;241m.\u001b[39mmode,\n\u001b[0;32m   (...)\u001b[0m\n\u001b[1;32m    258\u001b[0m ) \u001b[38;5;28;01mas\u001b[39;00m handles:\n\u001b[1;32m    259\u001b[0m     \u001b[38;5;66;03m# Note: self.encoding is irrelevant here\u001b[39;00m\n\u001b[1;32m    260\u001b[0m     \u001b[38;5;28mself\u001b[39m\u001b[38;5;241m.\u001b[39mwriter \u001b[38;5;241m=\u001b[39m csvlib\u001b[38;5;241m.\u001b[39mwriter(\n\u001b[1;32m    261\u001b[0m         handles\u001b[38;5;241m.\u001b[39mhandle,\n\u001b[1;32m    262\u001b[0m         lineterminator\u001b[38;5;241m=\u001b[39m\u001b[38;5;28mself\u001b[39m\u001b[38;5;241m.\u001b[39mlineterminator,\n\u001b[0;32m   (...)\u001b[0m\n\u001b[1;32m    267\u001b[0m         quotechar\u001b[38;5;241m=\u001b[39m\u001b[38;5;28mself\u001b[39m\u001b[38;5;241m.\u001b[39mquotechar,\n\u001b[1;32m    268\u001b[0m     )\n\u001b[0;32m--> 270\u001b[0m     \u001b[38;5;28;43mself\u001b[39;49m\u001b[38;5;241;43m.\u001b[39;49m\u001b[43m_save\u001b[49m\u001b[43m(\u001b[49m\u001b[43m)\u001b[49m\n",
      "File \u001b[0;32m/srv/conda/envs/notebook/lib/python3.11/site-packages/pandas/io/formats/csvs.py:275\u001b[0m, in \u001b[0;36mCSVFormatter._save\u001b[0;34m(self)\u001b[0m\n\u001b[1;32m    273\u001b[0m \u001b[38;5;28;01mif\u001b[39;00m \u001b[38;5;28mself\u001b[39m\u001b[38;5;241m.\u001b[39m_need_to_save_header:\n\u001b[1;32m    274\u001b[0m     \u001b[38;5;28mself\u001b[39m\u001b[38;5;241m.\u001b[39m_save_header()\n\u001b[0;32m--> 275\u001b[0m \u001b[38;5;28;43mself\u001b[39;49m\u001b[38;5;241;43m.\u001b[39;49m\u001b[43m_save_body\u001b[49m\u001b[43m(\u001b[49m\u001b[43m)\u001b[49m\n",
      "File \u001b[0;32m/srv/conda/envs/notebook/lib/python3.11/site-packages/pandas/io/formats/csvs.py:313\u001b[0m, in \u001b[0;36mCSVFormatter._save_body\u001b[0;34m(self)\u001b[0m\n\u001b[1;32m    311\u001b[0m \u001b[38;5;28;01mif\u001b[39;00m start_i \u001b[38;5;241m>\u001b[39m\u001b[38;5;241m=\u001b[39m end_i:\n\u001b[1;32m    312\u001b[0m     \u001b[38;5;28;01mbreak\u001b[39;00m\n\u001b[0;32m--> 313\u001b[0m \u001b[38;5;28;43mself\u001b[39;49m\u001b[38;5;241;43m.\u001b[39;49m\u001b[43m_save_chunk\u001b[49m\u001b[43m(\u001b[49m\u001b[43mstart_i\u001b[49m\u001b[43m,\u001b[49m\u001b[43m \u001b[49m\u001b[43mend_i\u001b[49m\u001b[43m)\u001b[49m\n",
      "File \u001b[0;32m/srv/conda/envs/notebook/lib/python3.11/site-packages/pandas/io/formats/csvs.py:320\u001b[0m, in \u001b[0;36mCSVFormatter._save_chunk\u001b[0;34m(self, start_i, end_i)\u001b[0m\n\u001b[1;32m    317\u001b[0m slicer \u001b[38;5;241m=\u001b[39m \u001b[38;5;28mslice\u001b[39m(start_i, end_i)\n\u001b[1;32m    318\u001b[0m df \u001b[38;5;241m=\u001b[39m \u001b[38;5;28mself\u001b[39m\u001b[38;5;241m.\u001b[39mobj\u001b[38;5;241m.\u001b[39miloc[slicer]\n\u001b[0;32m--> 320\u001b[0m res \u001b[38;5;241m=\u001b[39m \u001b[43mdf\u001b[49m\u001b[38;5;241;43m.\u001b[39;49m\u001b[43m_get_values_for_csv\u001b[49m\u001b[43m(\u001b[49m\u001b[38;5;241;43m*\u001b[39;49m\u001b[38;5;241;43m*\u001b[39;49m\u001b[38;5;28;43mself\u001b[39;49m\u001b[38;5;241;43m.\u001b[39;49m\u001b[43m_number_format\u001b[49m\u001b[43m)\u001b[49m\n\u001b[1;32m    321\u001b[0m data \u001b[38;5;241m=\u001b[39m \u001b[38;5;28mlist\u001b[39m(res\u001b[38;5;241m.\u001b[39m_iter_column_arrays())\n\u001b[1;32m    323\u001b[0m ix \u001b[38;5;241m=\u001b[39m \u001b[38;5;28mself\u001b[39m\u001b[38;5;241m.\u001b[39mdata_index[slicer]\u001b[38;5;241m.\u001b[39m_get_values_for_csv(\u001b[38;5;241m*\u001b[39m\u001b[38;5;241m*\u001b[39m\u001b[38;5;28mself\u001b[39m\u001b[38;5;241m.\u001b[39m_number_format)\n",
      "File \u001b[0;32m/srv/conda/envs/notebook/lib/python3.11/site-packages/pandas/core/frame.py:1410\u001b[0m, in \u001b[0;36mDataFrame._get_values_for_csv\u001b[0;34m(self, float_format, date_format, decimal, na_rep, quoting)\u001b[0m\n\u001b[1;32m   1400\u001b[0m \u001b[38;5;28;01mdef\u001b[39;00m\u001b[38;5;250m \u001b[39m\u001b[38;5;21m_get_values_for_csv\u001b[39m(\n\u001b[1;32m   1401\u001b[0m     \u001b[38;5;28mself\u001b[39m,\n\u001b[1;32m   1402\u001b[0m     \u001b[38;5;241m*\u001b[39m,\n\u001b[0;32m   (...)\u001b[0m\n\u001b[1;32m   1408\u001b[0m ) \u001b[38;5;241m-\u001b[39m\u001b[38;5;241m>\u001b[39m Self:\n\u001b[1;32m   1409\u001b[0m     \u001b[38;5;66;03m# helper used by to_csv\u001b[39;00m\n\u001b[0;32m-> 1410\u001b[0m     mgr \u001b[38;5;241m=\u001b[39m \u001b[38;5;28;43mself\u001b[39;49m\u001b[38;5;241;43m.\u001b[39;49m\u001b[43m_mgr\u001b[49m\u001b[38;5;241;43m.\u001b[39;49m\u001b[43mget_values_for_csv\u001b[49m\u001b[43m(\u001b[49m\n\u001b[1;32m   1411\u001b[0m \u001b[43m        \u001b[49m\u001b[43mfloat_format\u001b[49m\u001b[38;5;241;43m=\u001b[39;49m\u001b[43mfloat_format\u001b[49m\u001b[43m,\u001b[49m\n\u001b[1;32m   1412\u001b[0m \u001b[43m        \u001b[49m\u001b[43mdate_format\u001b[49m\u001b[38;5;241;43m=\u001b[39;49m\u001b[43mdate_format\u001b[49m\u001b[43m,\u001b[49m\n\u001b[1;32m   1413\u001b[0m \u001b[43m        \u001b[49m\u001b[43mdecimal\u001b[49m\u001b[38;5;241;43m=\u001b[39;49m\u001b[43mdecimal\u001b[49m\u001b[43m,\u001b[49m\n\u001b[1;32m   1414\u001b[0m \u001b[43m        \u001b[49m\u001b[43mna_rep\u001b[49m\u001b[38;5;241;43m=\u001b[39;49m\u001b[43mna_rep\u001b[49m\u001b[43m,\u001b[49m\n\u001b[1;32m   1415\u001b[0m \u001b[43m        \u001b[49m\u001b[43mquoting\u001b[49m\u001b[38;5;241;43m=\u001b[39;49m\u001b[43mquoting\u001b[49m\u001b[43m,\u001b[49m\n\u001b[1;32m   1416\u001b[0m \u001b[43m    \u001b[49m\u001b[43m)\u001b[49m\n\u001b[1;32m   1417\u001b[0m     \u001b[38;5;66;03m# error: Incompatible return value type (got \"DataFrame\", expected \"Self\")\u001b[39;00m\n\u001b[1;32m   1418\u001b[0m     \u001b[38;5;28;01mreturn\u001b[39;00m \u001b[38;5;28mself\u001b[39m\u001b[38;5;241m.\u001b[39m_constructor_from_mgr(mgr, axes\u001b[38;5;241m=\u001b[39mmgr\u001b[38;5;241m.\u001b[39maxes)\n",
      "File \u001b[0;32m/srv/conda/envs/notebook/lib/python3.11/site-packages/pandas/core/internals/managers.py:466\u001b[0m, in \u001b[0;36mBaseBlockManager.get_values_for_csv\u001b[0;34m(self, float_format, date_format, decimal, na_rep, quoting)\u001b[0m\n\u001b[1;32m    459\u001b[0m \u001b[38;5;28;01mdef\u001b[39;00m\u001b[38;5;250m \u001b[39m\u001b[38;5;21mget_values_for_csv\u001b[39m(\n\u001b[1;32m    460\u001b[0m     \u001b[38;5;28mself\u001b[39m, \u001b[38;5;241m*\u001b[39m, float_format, date_format, decimal, na_rep: \u001b[38;5;28mstr\u001b[39m \u001b[38;5;241m=\u001b[39m \u001b[38;5;124m\"\u001b[39m\u001b[38;5;124mnan\u001b[39m\u001b[38;5;124m\"\u001b[39m, quoting\u001b[38;5;241m=\u001b[39m\u001b[38;5;28;01mNone\u001b[39;00m\n\u001b[1;32m    461\u001b[0m ) \u001b[38;5;241m-\u001b[39m\u001b[38;5;241m>\u001b[39m Self:\n\u001b[1;32m    462\u001b[0m \u001b[38;5;250m    \u001b[39m\u001b[38;5;124;03m\"\"\"\u001b[39;00m\n\u001b[1;32m    463\u001b[0m \u001b[38;5;124;03m    Convert values to native types (strings / python objects) that are used\u001b[39;00m\n\u001b[1;32m    464\u001b[0m \u001b[38;5;124;03m    in formatting (repr / csv).\u001b[39;00m\n\u001b[1;32m    465\u001b[0m \u001b[38;5;124;03m    \"\"\"\u001b[39;00m\n\u001b[0;32m--> 466\u001b[0m     \u001b[38;5;28;01mreturn\u001b[39;00m \u001b[38;5;28;43mself\u001b[39;49m\u001b[38;5;241;43m.\u001b[39;49m\u001b[43mapply\u001b[49m\u001b[43m(\u001b[49m\n\u001b[1;32m    467\u001b[0m \u001b[43m        \u001b[49m\u001b[38;5;124;43m\"\u001b[39;49m\u001b[38;5;124;43mget_values_for_csv\u001b[39;49m\u001b[38;5;124;43m\"\u001b[39;49m\u001b[43m,\u001b[49m\n\u001b[1;32m    468\u001b[0m \u001b[43m        \u001b[49m\u001b[43mna_rep\u001b[49m\u001b[38;5;241;43m=\u001b[39;49m\u001b[43mna_rep\u001b[49m\u001b[43m,\u001b[49m\n\u001b[1;32m    469\u001b[0m \u001b[43m        \u001b[49m\u001b[43mquoting\u001b[49m\u001b[38;5;241;43m=\u001b[39;49m\u001b[43mquoting\u001b[49m\u001b[43m,\u001b[49m\n\u001b[1;32m    470\u001b[0m \u001b[43m        \u001b[49m\u001b[43mfloat_format\u001b[49m\u001b[38;5;241;43m=\u001b[39;49m\u001b[43mfloat_format\u001b[49m\u001b[43m,\u001b[49m\n\u001b[1;32m    471\u001b[0m \u001b[43m        \u001b[49m\u001b[43mdate_format\u001b[49m\u001b[38;5;241;43m=\u001b[39;49m\u001b[43mdate_format\u001b[49m\u001b[43m,\u001b[49m\n\u001b[1;32m    472\u001b[0m \u001b[43m        \u001b[49m\u001b[43mdecimal\u001b[49m\u001b[38;5;241;43m=\u001b[39;49m\u001b[43mdecimal\u001b[49m\u001b[43m,\u001b[49m\n\u001b[1;32m    473\u001b[0m \u001b[43m    \u001b[49m\u001b[43m)\u001b[49m\n",
      "File \u001b[0;32m/srv/conda/envs/notebook/lib/python3.11/site-packages/pandas/core/internals/managers.py:363\u001b[0m, in \u001b[0;36mBaseBlockManager.apply\u001b[0;34m(self, f, align_keys, **kwargs)\u001b[0m\n\u001b[1;32m    361\u001b[0m         applied \u001b[38;5;241m=\u001b[39m b\u001b[38;5;241m.\u001b[39mapply(f, \u001b[38;5;241m*\u001b[39m\u001b[38;5;241m*\u001b[39mkwargs)\n\u001b[1;32m    362\u001b[0m     \u001b[38;5;28;01melse\u001b[39;00m:\n\u001b[0;32m--> 363\u001b[0m         applied \u001b[38;5;241m=\u001b[39m \u001b[38;5;28;43mgetattr\u001b[39;49m\u001b[43m(\u001b[49m\u001b[43mb\u001b[49m\u001b[43m,\u001b[49m\u001b[43m \u001b[49m\u001b[43mf\u001b[49m\u001b[43m)\u001b[49m\u001b[43m(\u001b[49m\u001b[38;5;241;43m*\u001b[39;49m\u001b[38;5;241;43m*\u001b[39;49m\u001b[43mkwargs\u001b[49m\u001b[43m)\u001b[49m\n\u001b[1;32m    364\u001b[0m     result_blocks \u001b[38;5;241m=\u001b[39m extend_blocks(applied, result_blocks)\n\u001b[1;32m    366\u001b[0m out \u001b[38;5;241m=\u001b[39m \u001b[38;5;28mtype\u001b[39m(\u001b[38;5;28mself\u001b[39m)\u001b[38;5;241m.\u001b[39mfrom_blocks(result_blocks, \u001b[38;5;28mself\u001b[39m\u001b[38;5;241m.\u001b[39maxes)\n",
      "File \u001b[0;32m/srv/conda/envs/notebook/lib/python3.11/site-packages/pandas/core/internals/blocks.py:806\u001b[0m, in \u001b[0;36mBlock.get_values_for_csv\u001b[0;34m(self, float_format, date_format, decimal, na_rep, quoting)\u001b[0m\n\u001b[1;32m    801\u001b[0m \u001b[38;5;129m@final\u001b[39m\n\u001b[1;32m    802\u001b[0m \u001b[38;5;28;01mdef\u001b[39;00m\u001b[38;5;250m \u001b[39m\u001b[38;5;21mget_values_for_csv\u001b[39m(\n\u001b[1;32m    803\u001b[0m     \u001b[38;5;28mself\u001b[39m, \u001b[38;5;241m*\u001b[39m, float_format, date_format, decimal, na_rep: \u001b[38;5;28mstr\u001b[39m \u001b[38;5;241m=\u001b[39m \u001b[38;5;124m\"\u001b[39m\u001b[38;5;124mnan\u001b[39m\u001b[38;5;124m\"\u001b[39m, quoting\u001b[38;5;241m=\u001b[39m\u001b[38;5;28;01mNone\u001b[39;00m\n\u001b[1;32m    804\u001b[0m ) \u001b[38;5;241m-\u001b[39m\u001b[38;5;241m>\u001b[39m Block:\n\u001b[1;32m    805\u001b[0m \u001b[38;5;250m    \u001b[39m\u001b[38;5;124;03m\"\"\"convert to our native types format\"\"\"\u001b[39;00m\n\u001b[0;32m--> 806\u001b[0m     result \u001b[38;5;241m=\u001b[39m \u001b[43mget_values_for_csv\u001b[49m\u001b[43m(\u001b[49m\n\u001b[1;32m    807\u001b[0m \u001b[43m        \u001b[49m\u001b[38;5;28;43mself\u001b[39;49m\u001b[38;5;241;43m.\u001b[39;49m\u001b[43mvalues\u001b[49m\u001b[43m,\u001b[49m\n\u001b[1;32m    808\u001b[0m \u001b[43m        \u001b[49m\u001b[43mna_rep\u001b[49m\u001b[38;5;241;43m=\u001b[39;49m\u001b[43mna_rep\u001b[49m\u001b[43m,\u001b[49m\n\u001b[1;32m    809\u001b[0m \u001b[43m        \u001b[49m\u001b[43mquoting\u001b[49m\u001b[38;5;241;43m=\u001b[39;49m\u001b[43mquoting\u001b[49m\u001b[43m,\u001b[49m\n\u001b[1;32m    810\u001b[0m \u001b[43m        \u001b[49m\u001b[43mfloat_format\u001b[49m\u001b[38;5;241;43m=\u001b[39;49m\u001b[43mfloat_format\u001b[49m\u001b[43m,\u001b[49m\n\u001b[1;32m    811\u001b[0m \u001b[43m        \u001b[49m\u001b[43mdate_format\u001b[49m\u001b[38;5;241;43m=\u001b[39;49m\u001b[43mdate_format\u001b[49m\u001b[43m,\u001b[49m\n\u001b[1;32m    812\u001b[0m \u001b[43m        \u001b[49m\u001b[43mdecimal\u001b[49m\u001b[38;5;241;43m=\u001b[39;49m\u001b[43mdecimal\u001b[49m\u001b[43m,\u001b[49m\n\u001b[1;32m    813\u001b[0m \u001b[43m    \u001b[49m\u001b[43m)\u001b[49m\n\u001b[1;32m    814\u001b[0m     \u001b[38;5;28;01mreturn\u001b[39;00m \u001b[38;5;28mself\u001b[39m\u001b[38;5;241m.\u001b[39mmake_block(result)\n",
      "File \u001b[0;32m/srv/conda/envs/notebook/lib/python3.11/site-packages/pandas/core/indexes/base.py:7900\u001b[0m, in \u001b[0;36mget_values_for_csv\u001b[0;34m(values, date_format, na_rep, quoting, float_format, decimal)\u001b[0m\n\u001b[1;32m   7897\u001b[0m mask \u001b[38;5;241m=\u001b[39m isna(values)\n\u001b[1;32m   7899\u001b[0m \u001b[38;5;28;01mif\u001b[39;00m \u001b[38;5;129;01mnot\u001b[39;00m quoting:\n\u001b[0;32m-> 7900\u001b[0m     values \u001b[38;5;241m=\u001b[39m values\u001b[38;5;241m.\u001b[39mastype(\u001b[38;5;28mstr\u001b[39m)\n\u001b[1;32m   7901\u001b[0m \u001b[38;5;28;01melse\u001b[39;00m:\n\u001b[1;32m   7902\u001b[0m     values \u001b[38;5;241m=\u001b[39m np\u001b[38;5;241m.\u001b[39marray(values, dtype\u001b[38;5;241m=\u001b[39m\u001b[38;5;124m\"\u001b[39m\u001b[38;5;124mobject\u001b[39m\u001b[38;5;124m\"\u001b[39m)\n",
      "\u001b[0;31mKeyboardInterrupt\u001b[0m: "
     ]
    }
   ],
   "source": [
    "# arbitrarily picking some atlases I like\n",
    "atlases = ['AAL', 'glasser', 'aparc.a2009s', 'PALS_B12_Brodmann']\n",
    "all_params = df.columns[5:].values\n",
    "pbar = tqdm([p for p in all_participants if participant_dfs[p] is not None])\n",
    "\n",
    "# Get attributes (this is what takes forever)\n",
    "t1 = time.time()\n",
    "atlas_dat = {atlas:None for atlas in atlases}\n",
    "for ii,subj in enumerate(pbar):\n",
    "    pbar.set_description(f\"Extracting parameters for participant {subj}...\")\n",
    "    pdf = participant_dfs[subj]\n",
    "    for atlas in atlases:\n",
    "        atlas_rois = np.unique(pdf.loc[pdf['atlas']==atlas]['StructName'].values)\n",
    "        if atlas_dat[atlas] is None:\n",
    "            atlas_dat[atlas] = np.zeros((len(all_participants), len(atlas_rois), len(all_params)))\n",
    "        adf = pdf.loc[pdf['atlas'] == atlas]        \n",
    "        for jj,roi in enumerate(atlas_rois):\n",
    "            rdf = adf.loc[adf['StructName']==roi]\n",
    "            atlas_dat[atlas][ii,jj,:] = rdf.iloc[:,5:].values.sum(axis=0)\n",
    "\n",
    "# ok i finished this in the next cell hence the error ... "
   ]
  },
  {
   "cell_type": "code",
   "execution_count": 134,
   "id": "f19a2732-6999-4729-859d-d79985929a66",
   "metadata": {},
   "outputs": [
    {
     "name": "stdout",
     "output_type": "stream",
     "text": [
      "Saving to .tsvs...\n"
     ]
    },
    {
     "data": {
      "application/vnd.jupyter.widget-view+json": {
       "model_id": "00256f0870194d19ae6d65c1b5d206f8",
       "version_major": 2,
       "version_minor": 0
      },
      "text/plain": [
       "  0%|          | 0/4 [00:00<?, ?it/s]"
      ]
     },
     "metadata": {},
     "output_type": "display_data"
    },
    {
     "name": "stdout",
     "output_type": "stream",
     "text": [
      "Operation took 9.33 minutes.\n"
     ]
    }
   ],
   "source": [
    "# Format into dataframes and save to tsv (Hopefully takes less time)\n",
    "print(\"Saving to .tsvs...\")\n",
    "pbar = tqdm(atlases)\n",
    "for atlas in pbar:\n",
    "    pbar.set_description(f\"Saving .tsv files for {atlas}...\")\n",
    "    if not os.path.isdir(f'./data/regionsurfacestats/{atlas}'):\n",
    "        os.mkdir(f'./data/regionsurfacestats/{atlas}')\n",
    "    atlas_rois = np.unique(df.loc[df['atlas']==atlas]['StructName'].values)\n",
    "    dframes = {roi:pd.DataFrame(columns = ['participant_id'] + list(all_params)) for roi in atlas_rois}\n",
    "    for jj,roi in enumerate(atlas_rois):\n",
    "        dframes[roi]['participant_id'] = all_participants\n",
    "        for kk,param in enumerate(all_params):\n",
    "            dframes[roi][param] = atlas_dat[atlas][:,jj,kk]\n",
    "        # Write\n",
    "        dframes[roi].to_csv(f'./data/regionsurfacestats/{atlas}/{roi}.tsv' ,sep='\\t', index=False)\n",
    "t2 = time.time()\n",
    "print(\"Operation took %.2f minutes.\" % ((t2-t1)/60))"
   ]
  },
  {
   "cell_type": "code",
   "execution_count": null,
   "id": "3ae0fba0-e805-40e8-a5f0-40bdc99cc13c",
   "metadata": {},
   "outputs": [],
   "source": []
  }
 ],
 "metadata": {
  "kernelspec": {
   "display_name": "Python 3 (ipykernel)",
   "language": "python",
   "name": "python3"
  },
  "language_info": {
   "codemirror_mode": {
    "name": "ipython",
    "version": 3
   },
   "file_extension": ".py",
   "mimetype": "text/x-python",
   "name": "python",
   "nbconvert_exporter": "python",
   "pygments_lexer": "ipython3",
   "version": "3.11.11"
  }
 },
 "nbformat": 4,
 "nbformat_minor": 5
}
